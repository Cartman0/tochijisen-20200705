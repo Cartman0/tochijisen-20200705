{
 "cells": [
  {
   "cell_type": "markdown",
   "metadata": {},
   "source": [
    "# 都知事選(2020-07-05)、小池百合子氏にどの党派が入れたか"
   ]
  },
  {
   "cell_type": "markdown",
   "metadata": {},
   "source": [
    "ベイズで計算するために以下を定義します．\n",
    "\n",
    "- 今回の都知事選のX氏の得票率（確率）を$P(X氏)$とする．\n",
    "- 都内で選挙権のある人がY党派である割合（確率）を$P(Y派)$とする\n",
    "- 都内でY党派のうちX氏に投票した割合（確率）を$P(X氏|Y派)$とする．\n",
    "- **X氏の得票率のうちY派である割合（確率）を$P(Y派|X氏)$とする．**（今回求めるもの）\n",
    "\n",
    "ベイズの式は\n",
    "\n",
    "\\begin{eqnarray}\n",
    "P(Y派|X氏) \n",
    "&=& \\frac{P(X氏,Y派)P(Y派)}{P(X氏)}\\\\\n",
    "&=& \\frac{P(X氏|Y派)P(Y派)}{P(X氏)}\n",
    "\\end{eqnarray}\n",
    "\n",
    "※ここで$P(X氏,Y派)$は都内の選挙権がある人中でX氏に投票してかつY党派である割合（確率）\n",
    "\n",
    "例えば，小池氏の得票率のうち自民派である割合（確率）は以下の式で求められる．\n",
    "\n",
    "\\begin{eqnarray}\n",
    "P(自民|小池) \n",
    "&=& \\frac{P(小池,自民)}{P(小池)} \\\\\n",
    "&=& \\frac{P(小池|自民)P(自民)}{P(小池)}\n",
    "\\end{eqnarray}\n",
    "\n"
   ]
  },
  {
   "cell_type": "markdown",
   "metadata": {},
   "source": [
    "この計算にあたって特に必要なデータは\n",
    "\n",
    "- 都内で選挙権のある人がY党派である割合\n",
    "- 都内でY党派のうちX氏に投票した割合\n",
    "\n",
    "になる．が，正確なデータはないので以下の仮定をおく．\n",
    "\n",
    "- 都内で選挙権のある人がY党派である割合$P(Y派)$\n",
    "≒全国の政党支持率（つまり，都内の政党支持率と全国区の政党支持率がほぼ等しい）\n",
    "- 都内でY党派のうちX氏に投票した割合$P(X氏|Y派)$≒都内でY党派のうちX氏に投票する予定の割合\n",
    "（東京新聞が投票予定先を調査していたのでこれを使う．）\n"
   ]
  },
  {
   "cell_type": "markdown",
   "metadata": {},
   "source": [
    "## データ"
   ]
  },
  {
   "cell_type": "markdown",
   "metadata": {},
   "source": [
    "### NHKによる政党支持率"
   ]
  },
  {
   "cell_type": "markdown",
   "metadata": {},
   "source": [
    "全国の政党支持率データとしてNHKの最新のものを利用する．\n",
    "\n",
    "- [archive](https://web.archive.org/web/20200706075456/http://www.nhk.or.jp/senkyo/shijiritsu/)\n",
    "\n",
    "> 調査概要：\n",
    "- 調査期間\t6月19日(金)～21日(日)\n",
    "- 調査方法\t電話法（固定・携帯ＲＤＤ）\n",
    "- 調査相手\t全国18歳以上　2,202人\n",
    "- 回答数(率)\t1,270人（57.7%）\n",
    "\n",
    "![](NHK政党支持率_20200619-0621.PNG)"
   ]
  },
  {
   "cell_type": "markdown",
   "metadata": {},
   "source": [
    "整形処理として，\"支持なし\"と\"わからない、無回答\"をまとまめて「無党派」とする．\n",
    "また，東京新聞の投票予定先データと合わせるために\"日本維新の会\",\"社民\",\"N国\"をまとめてその他にまとめる．\n",
    "\n",
    "表にまとめ直すと以下になる．\n",
    "\n",
    "|政党名|支持率[%]|\n",
    "|:---:|:------:|\n",
    "|自民党|32.5|\n",
    "|公明党|4.3|\n",
    "|立憲民主党|5.6|\n",
    "|国民民主党|0.6|\n",
    "|共産|1.7|\n",
    "|れいわ|0.6|\n",
    "|その他|5.1|\n",
    "|無党派|49.6|\n"
   ]
  },
  {
   "cell_type": "code",
   "execution_count": 14,
   "metadata": {
    "ExecuteTime": {
     "end_time": "2020-07-06T10:04:28.475043Z",
     "start_time": "2020-07-06T10:04:28.460080Z"
    }
   },
   "outputs": [
    {
     "data": {
      "text/plain": [
       "100.0"
      ]
     },
     "execution_count": 14,
     "metadata": {},
     "output_type": "execute_result"
    }
   ],
   "source": [
    "32.5 + 4.3 + 5.6 + 0.6 + 1.7 + 0.6 + 5.1 + 49.6"
   ]
  },
  {
   "cell_type": "markdown",
   "metadata": {},
   "source": [
    "### 投票予定先（東京新聞）"
   ]
  },
  {
   "cell_type": "markdown",
   "metadata": {},
   "source": [
    "- https://www.tokyo-np.co.jp/article/38679\n",
    "- https://web.archive.org/save/https://www.tokyo-np.co.jp/article/38679\n",
    "\n",
    ">【調査の方法】6月26~28日､都内の有権者を対象にｺﾝﾋﾟｭｰﾀｰで無作為に選んだ番号に電話をかける方法で行い､実際に有権者がいる家庭につながった1457件のうち1030人から回答を得た｡各設問の回答の比率は小数点以下第2位で四捨五入しており､総計が100%にならない場合がある｡\n",
    "\n",
    "![](https://static.tokyo-np.co.jp/image/article/size1/2/c/7/c/2c7c445f55c25759062e4f0cbae68c8e_1.jpg)"
   ]
  },
  {
   "cell_type": "markdown",
   "metadata": {},
   "source": [
    "\n",
    "$$\n",
    "P(小池|自民) = 73.4[\\%] \\\\\n",
    "P(山本|自民) = 3.1[\\%] \\\\\n",
    "P(宇都宮|自民) = 1.9[\\%]\\\\\n",
    "P(小野|自民) = 4.5[\\%]\\\\\n",
    "P(立花|自民) = 0.1[\\%]\\\\\n",
    "P(その他|自民) = 17[\\%] \\\\\n",
    "$$\n",
    "\n",
    "$$\n",
    "P(小池|公明) = 87.3[\\%] \\\\\n",
    "P(山本|公明) = 0[\\%]  \\\\\n",
    "P(宇都宮|公明) = 0[\\%] \\\\\n",
    "P(小野|公明) = 0[\\%] \\\\\n",
    "P(立花|公明) = 0[\\%] \\\\\n",
    "P(その他|公明) = 12.7[\\%] \\\\\n",
    "$$\n",
    "\n"
   ]
  },
  {
   "cell_type": "code",
   "execution_count": 13,
   "metadata": {
    "ExecuteTime": {
     "end_time": "2020-07-06T09:38:46.963994Z",
     "start_time": "2020-07-06T09:38:46.947995Z"
    }
   },
   "outputs": [
    {
     "data": {
      "text/plain": [
       "100.0"
      ]
     },
     "execution_count": 13,
     "metadata": {},
     "output_type": "execute_result"
    }
   ],
   "source": [
    "73.4 + 3.1 + 1.9 + 4.5 + 0.1 + 17"
   ]
  },
  {
   "cell_type": "markdown",
   "metadata": {},
   "source": [
    "## 小池都知事に入った割合"
   ]
  },
  {
   "cell_type": "markdown",
   "metadata": {},
   "source": [
    "https://www.asahi.com/senkyo/tochijisen/2020/kaihyo/\n"
   ]
  },
  {
   "cell_type": "markdown",
   "metadata": {},
   "source": [
    "$$\n",
    "P(小池|自民) = 73.4[\\%] \\\\\n",
    "P(自民) = 32.5[\\%]\\\\\n",
    "P(小池) = 59.70[\\%]\n",
    "$$\n",
    "\n",
    "\n",
    "\n",
    "$$\n",
    "P(自民|小池) = \\frac{P(小池,自民)}{P(小池)} \n",
    "= \\frac{P(小池|自民)P(自民)}{P(小池)}\n",
    "= \\frac{0.734 \\cdot 0.325}{0.5970}\n",
    "= 39.96[\\%]\n",
    "$$\n",
    "\n",
    "$$\n",
    "P(公明|小池) \n",
    "= \\frac{P(小池|公明)P(公明)}{P(小池)}\n",
    "= \\frac{0.873 \\cdot 0.043}{0.5970}\n",
    "= 6.29[\\%]\n",
    "$$\n",
    "\n",
    "$$\n",
    "P(無党派|小池)\n",
    "= \\frac{P(小池|無党派)P(無党派)}{P(小池)}\n",
    "= \\frac{0.601 \\cdot 0.496}{0.5970}\n",
    "= 49.93[\\%]\n",
    "$$\n",
    "\n",
    "$$\n",
    "P(立憲民主|小池)\n",
    "= \\frac{P(小池|立憲民主)P(立憲民主)}{P(小池)}\n",
    "= \\frac{0.561 \\cdot 0.056}{0.5970}\n",
    "= 5.26[\\%]\n",
    "$$\n",
    "\n",
    "$$\n",
    "P(国民民主|小池)\n",
    "= \\frac{P(小池|国民民主)P(国民民主)}{P(小池)}\n",
    "= \\frac{0.629 \\cdot 0.006}{0.5970}\n",
    "= 0.63[\\%]\n",
    "$$\n",
    "\n",
    "$$\n",
    "P(共産|小池)\n",
    "= \\frac{P(小池|共産)P(共産)}{P(小池)}\n",
    "= \\frac{0.214 \\cdot 0.017}{0.5972}\n",
    "= 0.61[\\%]\n",
    "$$\n",
    "\n",
    "$$\n",
    "P(れいわ|小池)\n",
    "= \\frac{P(小池|れいわ)P(れいわ)}{P(小池)}\n",
    "= \\frac{0.075 \\cdot 0.006}{0.5972}\n",
    "= 0.08[\\%]\n",
    "$$\n",
    "\n",
    "5位で四捨五入\n"
   ]
  },
  {
   "cell_type": "code",
   "execution_count": 23,
   "metadata": {
    "ExecuteTime": {
     "end_time": "2020-07-07T07:28:30.223736Z",
     "start_time": "2020-07-07T07:28:30.219400Z"
    }
   },
   "outputs": [],
   "source": [
    "P_touha = {\n",
    "    \"自民\": 0.325,\n",
    "    \"公明\": 0.043,\n",
    "    \"立憲民主\": 0.056,\n",
    "    \"国民民主\": 0.006,\n",
    "    \"共産\": 0.017,\n",
    "    \"れいわ\": 0.006,\n",
    "    \"その他\": 0.051,\n",
    "    \"無党派\": 0.496,\n",
    "}"
   ]
  },
  {
   "cell_type": "code",
   "execution_count": 28,
   "metadata": {
    "ExecuteTime": {
     "end_time": "2020-07-07T07:42:59.621951Z",
     "start_time": "2020-07-07T07:42:59.609921Z"
    }
   },
   "outputs": [
    {
     "data": {
      "text/plain": [
       "{'自民': 0.734,\n",
       " '公明': 0.873,\n",
       " '立憲民主': 0.561,\n",
       " '国民民主': 0.629,\n",
       " '共産': 0.214,\n",
       " 'れいわ': 0.075,\n",
       " '無党派': 0.601,\n",
       " 'その他': 0}"
      ]
     },
     "execution_count": 28,
     "metadata": {},
     "output_type": "execute_result"
    }
   ],
   "source": [
    "# P(小池|Y党派)\n",
    "P_koike_touha = {\n",
    "    \"自民\": 0.734,\n",
    "    \"公明\": 0.873,\n",
    "    \"立憲民主\": 0.561,\n",
    "    \"国民民主\": 0.629,\n",
    "    \"共産\": 0.214,\n",
    "    \"れいわ\": 0.075,\n",
    "    \"無党派\": 0.601,\n",
    "    \"その他\": 0,\n",
    "}\n",
    "P_koike_touha"
   ]
  },
  {
   "cell_type": "code",
   "execution_count": 29,
   "metadata": {
    "ExecuteTime": {
     "end_time": "2020-07-07T07:43:00.263515Z",
     "start_time": "2020-07-07T07:43:00.255483Z"
    }
   },
   "outputs": [
    {
     "data": {
      "text/plain": [
       "{'自民': 0.3995812395309883,\n",
       " '公明': 0.06287939698492462,\n",
       " '立憲民主': 0.052623115577889464,\n",
       " '国民民主': 0.006321608040201005,\n",
       " '共産': 0.006093802345058627,\n",
       " 'れいわ': 0.0007537688442211055,\n",
       " 'その他': 0.0,\n",
       " '無党派': 0.499323283082077}"
      ]
     },
     "execution_count": 29,
     "metadata": {},
     "output_type": "execute_result"
    }
   ],
   "source": [
    "P_tokuhyou_koike = 0.5970 \n",
    "{k: P_koike_touha[k]*P_touha[k]/P_tokuhyou_koike for k in P_touha.keys()}"
   ]
  },
  {
   "cell_type": "code",
   "execution_count": 32,
   "metadata": {
    "ExecuteTime": {
     "end_time": "2020-07-07T07:45:34.841836Z",
     "start_time": "2020-07-07T07:45:34.827449Z"
    }
   },
   "outputs": [
    {
     "data": {
      "text/plain": [
       "1.0275762144053602"
      ]
     },
     "execution_count": 32,
     "metadata": {},
     "output_type": "execute_result"
    }
   ],
   "source": [
    "# 100になるか\n",
    "sum([P_koike_touha[k]*P_touha[k]/P_tokuhyou_koike for k in P_touha.keys()])"
   ]
  },
  {
   "cell_type": "markdown",
   "metadata": {},
   "source": [
    "池都知事に入れた党派の割合を表にまとめる．\n",
    "\n",
    "|P(Y派\\|小池)| 割合[%] |\n",
    "|:-:|:-:|\n",
    "|P(無党派\\|小池)|49.93|\n",
    "|P(自民\\|小池)|39.96|\n",
    "|P(公明\\|小池)|6.29|\n",
    "|P(立憲民主\\|小池)|5.26|\n",
    "|P(国民民主\\|小池)|0.63|\n",
    "|P(共産\\|小池)|0.61|\n",
    "|P(れいわ\\|小池)|0.08|\n",
    "|計|102.76|\n",
    "\n",
    "※今回は正確なP(X氏|Y派)とP(Y派)を使ってないので，\n",
    "実際の得票率P(X氏)で正規化してもぴったり100にならない．"
   ]
  },
  {
   "cell_type": "code",
   "execution_count": 15,
   "metadata": {
    "ExecuteTime": {
     "end_time": "2020-07-06T17:59:08.871336Z",
     "start_time": "2020-07-06T17:59:08.857337Z"
    }
   },
   "outputs": [
    {
     "data": {
      "text/plain": [
       "102.76"
      ]
     },
     "execution_count": 15,
     "metadata": {},
     "output_type": "execute_result"
    }
   ],
   "source": [
    "49.93+39.96+6.29+5.26+0.63+0.61+0.08"
   ]
  },
  {
   "cell_type": "code",
   "execution_count": 3,
   "metadata": {
    "ExecuteTime": {
     "end_time": "2020-07-06T07:07:54.181165Z",
     "start_time": "2020-07-06T07:07:54.177194Z"
    }
   },
   "outputs": [
    {
     "data": {
      "text/plain": [
       "0.3995812395309883"
      ]
     },
     "execution_count": 3,
     "metadata": {},
     "output_type": "execute_result"
    }
   ],
   "source": [
    "# 自民|小池\n",
    "0.734 * 0.325 / 0.5970"
   ]
  },
  {
   "cell_type": "code",
   "execution_count": 4,
   "metadata": {
    "ExecuteTime": {
     "end_time": "2020-07-06T07:07:55.812398Z",
     "start_time": "2020-07-06T07:07:55.798853Z"
    }
   },
   "outputs": [
    {
     "data": {
      "text/plain": [
       "0.06287939698492462"
      ]
     },
     "execution_count": 4,
     "metadata": {},
     "output_type": "execute_result"
    }
   ],
   "source": [
    "# 公明|小池\n",
    "0.873 * 0.043 / 0.5970"
   ]
  },
  {
   "cell_type": "code",
   "execution_count": 5,
   "metadata": {
    "ExecuteTime": {
     "end_time": "2020-07-06T07:08:39.478729Z",
     "start_time": "2020-07-06T07:08:39.462706Z"
    }
   },
   "outputs": [
    {
     "data": {
      "text/plain": [
       "0.499323283082077"
      ]
     },
     "execution_count": 5,
     "metadata": {},
     "output_type": "execute_result"
    }
   ],
   "source": [
    "# 無党派|小池\n",
    "0.601 * 0.496 / 0.5970"
   ]
  },
  {
   "cell_type": "code",
   "execution_count": 6,
   "metadata": {
    "ExecuteTime": {
     "end_time": "2020-07-06T07:08:56.908576Z",
     "start_time": "2020-07-06T07:08:56.888018Z"
    }
   },
   "outputs": [
    {
     "data": {
      "text/plain": [
       "0.052623115577889464"
      ]
     },
     "execution_count": 6,
     "metadata": {},
     "output_type": "execute_result"
    }
   ],
   "source": [
    "# 立憲民主|小池\n",
    "0.561 * 0.056 / 0.5970"
   ]
  },
  {
   "cell_type": "code",
   "execution_count": 7,
   "metadata": {
    "ExecuteTime": {
     "end_time": "2020-07-06T07:09:29.799583Z",
     "start_time": "2020-07-06T07:09:29.786583Z"
    }
   },
   "outputs": [
    {
     "data": {
      "text/plain": [
       "0.006321608040201005"
      ]
     },
     "execution_count": 7,
     "metadata": {},
     "output_type": "execute_result"
    }
   ],
   "source": [
    "# 国民民主|小池\n",
    "0.629 * 0.006 / 0.5970"
   ]
  },
  {
   "cell_type": "code",
   "execution_count": 8,
   "metadata": {
    "ExecuteTime": {
     "end_time": "2020-07-06T07:09:45.735887Z",
     "start_time": "2020-07-06T07:09:45.716899Z"
    }
   },
   "outputs": [
    {
     "data": {
      "text/plain": [
       "0.006093802345058627"
      ]
     },
     "execution_count": 8,
     "metadata": {},
     "output_type": "execute_result"
    }
   ],
   "source": [
    "# 共産|小池\n",
    "0.214 * 0.017 / 0.5970"
   ]
  },
  {
   "cell_type": "code",
   "execution_count": 9,
   "metadata": {
    "ExecuteTime": {
     "end_time": "2020-07-06T07:10:16.972726Z",
     "start_time": "2020-07-06T07:10:16.955216Z"
    }
   },
   "outputs": [
    {
     "data": {
      "text/plain": [
       "0.0007537688442211055"
      ]
     },
     "execution_count": 9,
     "metadata": {},
     "output_type": "execute_result"
    }
   ],
   "source": [
    "# れいわ|小池\n",
    "0.075 * 0.006 / 0.5970"
   ]
  },
  {
   "cell_type": "markdown",
   "metadata": {},
   "source": [
    "計100にならないので無党派を1とする比でみる.\n",
    "\n",
    "|P(Y派\\|小池)| 比 |\n",
    "|:-:|:-:|\n",
    "|$P(無党派|小池)$|1|\n",
    "|$P(自民|小池)$|0.800|\n",
    "|$P(公明|小池)$|0.126|\n",
    "|$P(立憲民主|小池)$|0.105|\n",
    "|$P(国民民主|小池)$|0.0126|\n",
    "|$P(共産|小池)$|0.0122|\n",
    "|$P(れいわ|小池)$|0.0016|\n"
   ]
  },
  {
   "cell_type": "code",
   "execution_count": 59,
   "metadata": {
    "ExecuteTime": {
     "end_time": "2020-07-07T21:10:32.676076Z",
     "start_time": "2020-07-07T21:10:32.495560Z"
    }
   },
   "outputs": [
    {
     "data": {
      "image/png": "[encoded data removed]",
      "text/plain": [
       "<Figure size 432x288 with 1 Axes>"
      ]
     },
     "metadata": {
      "needs_background": "light"
     },
     "output_type": "display_data"
    }
   ],
   "source": [
    "import numpy as np\n",
    "import matplotlib.pyplot as plt\n",
    "from matplotlib.font_manager import FontProperties\n",
    "fp = FontProperties(fname=r'C:\\WINDOWS\\Fonts\\YuGothR.ttc', size=14)\n",
    "\n",
    "P_touha_koike = {k: P_koike_touha[k]*P_touha[k] /\n",
    "                 P_tokuhyou_koike for k in P_touha.keys()}\n",
    "koike_ratio = {}\n",
    "for k in P_touha_koike.keys():\n",
    "    koike_ratio[k] = P_touha_koike[k]/P_touha_koike[\"無党派\"]\n",
    "koike_ratio\n",
    "\n",
    "# print(list(koike_ratio.keys()))\n",
    "# print(list(koike_ratio.values()))\n",
    "sorted_idx = np.argsort(list(koike_ratio.values()))\n",
    "# print(sorted_idx)\n",
    "plt.barh(y=np.array(list(koike_ratio.keys()))[sorted_idx], \n",
    "         width=np.array(list(koike_ratio.values()))[sorted_idx])\n",
    "\n",
    "plt.yticks(fontproperties=fp)\n",
    "plt.xlabel(\"ratio\")\n",
    "plt.title(\"小池氏に投票した割合を無党派=1としたときの比\", fontproperties=fp, y=-0.25)\n",
    "plt.grid(True)\n",
    "plt.tight_layout()\n",
    "plt.savefig(\"小池氏に投票した割合を無党派=1としたときの比.png\")\n",
    "plt.show()"
   ]
  },
  {
   "cell_type": "markdown",
   "metadata": {},
   "source": [
    "## ベイズによる小池氏の得票率の推定"
   ]
  },
  {
   "cell_type": "markdown",
   "metadata": {},
   "source": [
    "今回は，X氏に投票したかつY党派である同時確率の周辺化により\n",
    "小池氏の得票率を前もってベイズ推定できた．\n",
    "\n",
    "式にすると\n",
    "\n",
    "\\begin{eqnarray}\n",
    "P(X氏) \n",
    "&=& \\sum_{i=1}^{N} P(X氏, Y_{i}派)\\\\\n",
    "&=& \\sum_{i=1}^{N} P(X氏|Y_{i}派)P(Y_{i}派)\n",
    "\\end{eqnarray}\n",
    "\n",
    "- ※$N$を全党派の数とする（今回は7）．\n",
    "- ※なお，\"日本維新の会\"，\"社民\"，\"N国\"，\"その他の党派\"の方々が誰に投票予定かのデータはないので$P(X氏|その他の党派)=0$としているに等しい．\n"
   ]
  },
  {
   "cell_type": "markdown",
   "metadata": {},
   "source": [
    "例えば，小池百合子氏の得票率をベイズ推定すると，\n",
    "\n",
    "\\begin{eqnarray}\n",
    "P(小池) \n",
    "&=& \\sum_{i=1}^{N} P(小池|Y派)P(Y派)\\\\\n",
    "&=& P(小池|自民)P(自民)+P(小池|公明)P(公明)+P(小池|立民)P(立民)+P(小池|国民)P(国民)+P(小池|共産)P(共産)+P(小池|れいわ)P(れいわ)+P(小池|無党派)P(無党派)\\\\\n",
    "&=& 61.3 [\\%]\n",
    "\\end{eqnarray}"
   ]
  },
  {
   "cell_type": "code",
   "execution_count": 33,
   "metadata": {
    "ExecuteTime": {
     "end_time": "2020-07-07T07:49:28.397305Z",
     "start_time": "2020-07-07T07:49:28.384310Z"
    }
   },
   "outputs": [
    {
     "data": {
      "text/plain": [
       "0.613463"
      ]
     },
     "execution_count": 33,
     "metadata": {},
     "output_type": "execute_result"
    }
   ],
   "source": [
    "# 推定\n",
    "sum([P_koike_touha[k]*P_touha[k] for k in P_touha.keys()])"
   ]
  },
  {
   "cell_type": "markdown",
   "metadata": {},
   "source": [
    "## 宇都宮氏の割合"
   ]
  },
  {
   "cell_type": "markdown",
   "metadata": {},
   "source": [
    "$$\n",
    "P(Y派|宇都宮) = \\frac{P(宇都宮|Y派)P(Y派)}{P(宇都宮)}\n",
    "$$\n",
    "\n",
    "\n",
    "|政党名|支持率[%]|\n",
    "|:---:|:------:|\n",
    "|自民党|32.5|\n",
    "|公明党|4.3|\n",
    "|立憲民主党|5.6|\n",
    "|国民民主党|0.6|\n",
    "|共産|1.7|\n",
    "|れいわ|0.6|\n",
    "|その他|5.1|\n",
    "|無党派|49.6|"
   ]
  },
  {
   "cell_type": "code",
   "execution_count": 5,
   "metadata": {
    "ExecuteTime": {
     "end_time": "2020-07-07T05:31:39.062875Z",
     "start_time": "2020-07-07T05:31:39.040835Z"
    }
   },
   "outputs": [
    {
     "data": {
      "text/plain": [
       "({'自民': 0.325,\n",
       "  '公明': 0.043,\n",
       "  '立憲民主': 0.056,\n",
       "  '国民民主': 0.006,\n",
       "  '共産': 0.017,\n",
       "  'れいわ': 0.006,\n",
       "  'その他': 0.051,\n",
       "  '無党派': 0.496},\n",
       " 1.0)"
      ]
     },
     "execution_count": 5,
     "metadata": {},
     "output_type": "execute_result"
    }
   ],
   "source": [
    "P_touha, sum([P_touha[k] for k in P_touha.keys()])"
   ]
  },
  {
   "cell_type": "code",
   "execution_count": 10,
   "metadata": {
    "ExecuteTime": {
     "end_time": "2020-07-07T06:14:16.173131Z",
     "start_time": "2020-07-07T06:14:16.165130Z"
    },
    "scrolled": true
   },
   "outputs": [
    {
     "data": {
      "text/plain": [
       "{'自民': 0.04487645348837209,\n",
       " '公明': 0.0,\n",
       " '立憲民主': 0.09034883720930233,\n",
       " '国民民主': 0.0,\n",
       " '共産': 0.07289244186046512,\n",
       " 'れいわ': 0.0,\n",
       " 'その他': 0.0,\n",
       " '無党派': 0.30279069767441863}"
      ]
     },
     "execution_count": 10,
     "metadata": {},
     "output_type": "execute_result"
    }
   ],
   "source": [
    "# P(宇都宮|Y派)\n",
    "P_utsunomiya_touha = {\n",
    "    \"自民\": 0.019,\n",
    "    \"公明\": 0,\n",
    "    \"立憲民主\": 0.222,\n",
    "    \"国民民主\": 0,\n",
    "    \"共産\": 0.59,\n",
    "    \"れいわ\": 0,\n",
    "    \"無党派\": 0.084,\n",
    "    \"その他\": 0,\n",
    "}\n",
    "P_tokuhyou_utsunomiya = 0.1376\n",
    "{k: P_utsunomiya_touha[k]*P_touha[k]/P_tokuhyou_utsunomiya for k in P_touha.keys()}"
   ]
  },
  {
   "cell_type": "markdown",
   "metadata": {},
   "source": [
    "誤差は0となっている公明・国民民主・れいわ・その他分であると考えられる．\n",
    "（つまりデータが足りない．）"
   ]
  },
  {
   "cell_type": "code",
   "execution_count": 15,
   "metadata": {
    "ExecuteTime": {
     "end_time": "2020-07-07T06:58:00.388876Z",
     "start_time": "2020-07-07T06:58:00.370819Z"
    }
   },
   "outputs": [
    {
     "data": {
      "text/plain": [
       "0.070301"
      ]
     },
     "execution_count": 15,
     "metadata": {},
     "output_type": "execute_result"
    }
   ],
   "source": [
    "# 推定値\n",
    "sum([P_utsunomiya_touha[k]*P_touha[k] for k in P_touha.keys()])"
   ]
  },
  {
   "cell_type": "markdown",
   "metadata": {},
   "source": [
    "## 山本太郎の割合"
   ]
  },
  {
   "cell_type": "code",
   "execution_count": 16,
   "metadata": {
    "ExecuteTime": {
     "end_time": "2020-07-07T07:03:05.727336Z",
     "start_time": "2020-07-07T07:03:05.715827Z"
    }
   },
   "outputs": [
    {
     "data": {
      "text/plain": [
       "{'自民': 0.09398320895522388,\n",
       " '公明': 0.0,\n",
       " '立憲民主': 0.05432835820895522,\n",
       " '国民民主': 0.010634328358208954,\n",
       " '共産': 0.007136194029850746,\n",
       " 'れいわ': 0.03486940298507463,\n",
       " 'その他': 0.0,\n",
       " '無党派': 0.27761194029850744}"
      ]
     },
     "execution_count": 16,
     "metadata": {},
     "output_type": "execute_result"
    }
   ],
   "source": [
    "# P(山本|Y派)\n",
    "P_yamamoto_touha = {\n",
    "    \"自民\": 0.031,\n",
    "    \"公明\": 0,\n",
    "    \"立憲民主\": 0.104,\n",
    "    \"国民民主\": 0.19,\n",
    "    \"共産\": 0.045,\n",
    "    \"れいわ\": 0.623,\n",
    "    \"無党派\": 0.060,\n",
    "    \"その他\": 0,\n",
    "}\n",
    "P_tokuhyou_yamamoto = 0.1072\n",
    "{k: P_yamamoto_touha[k]*P_touha[k]/P_tokuhyou_yamamoto for k in P_touha.keys()}"
   ]
  },
  {
   "cell_type": "code",
   "execution_count": 20,
   "metadata": {
    "ExecuteTime": {
     "end_time": "2020-07-07T07:09:08.655134Z",
     "start_time": "2020-07-07T07:09:08.648134Z"
    }
   },
   "outputs": [
    {
     "data": {
      "text/plain": [
       "0.051302"
      ]
     },
     "execution_count": 20,
     "metadata": {},
     "output_type": "execute_result"
    }
   ],
   "source": [
    "sum([P_yamamoto_touha[k]*P_touha[k] for k in P_touha.keys()])"
   ]
  },
  {
   "cell_type": "markdown",
   "metadata": {},
   "source": [
    "## 小野泰輔の割合"
   ]
  },
  {
   "cell_type": "code",
   "execution_count": 21,
   "metadata": {
    "ExecuteTime": {
     "end_time": "2020-07-07T07:25:14.059730Z",
     "start_time": "2020-07-07T07:25:14.040144Z"
    }
   },
   "outputs": [
    {
     "data": {
      "text/plain": [
       "{'自民': 0.14639639639639637,\n",
       " '公明': 0.0,\n",
       " '立憲民主': 0.021861861861861863,\n",
       " '国民民主': 0.0,\n",
       " '共産': 0.0,\n",
       " 'れいわ': 0.0,\n",
       " 'その他': 0.0,\n",
       " '無党派': 0.20356356356356356}"
      ]
     },
     "execution_count": 21,
     "metadata": {},
     "output_type": "execute_result"
    }
   ],
   "source": [
    "# P(小野|Y派)\n",
    "P_ono_touha = {\n",
    "    \"自民\": 0.045,\n",
    "    \"公明\": 0,\n",
    "    \"立憲民主\": 0.039,\n",
    "    \"国民民主\": 0,\n",
    "    \"共産\": 0,\n",
    "    \"れいわ\": 0,\n",
    "    \"無党派\": 0.041,\n",
    "    \"その他\": 0,\n",
    "}\n",
    "P_tokuhyou_ono = 0.0999\n",
    "{k: P_ono_touha[k]*P_touha[k]/P_tokuhyou_ono for k in P_touha.keys()}"
   ]
  },
  {
   "cell_type": "code",
   "execution_count": 22,
   "metadata": {
    "ExecuteTime": {
     "end_time": "2020-07-07T07:26:36.611054Z",
     "start_time": "2020-07-07T07:26:36.603448Z"
    }
   },
   "outputs": [
    {
     "data": {
      "text/plain": [
       "0.037145"
      ]
     },
     "execution_count": 22,
     "metadata": {},
     "output_type": "execute_result"
    }
   ],
   "source": [
    "sum([P_ono_touha[k]*P_touha[k] for k in P_touha.keys()])"
   ]
  },
  {
   "cell_type": "code",
   "execution_count": null,
   "metadata": {},
   "outputs": [],
   "source": []
  }
 ],
 "metadata": {
  "hide_input": false,
  "kernelspec": {
   "display_name": "Python 3",
   "language": "python",
   "name": "python3"
  },
  "language_info": {
   "codemirror_mode": {
    "name": "ipython",
    "version": 3
   },
   "file_extension": ".py",
   "mimetype": "text/x-python",
   "name": "python",
   "nbconvert_exporter": "python",
   "pygments_lexer": "ipython3",
   "version": "3.7.4"
  },
  "toc": {
   "base_numbering": 1,
   "nav_menu": {},
   "number_sections": true,
   "sideBar": true,
   "skip_h1_title": false,
   "title_cell": "Table of Contents",
   "title_sidebar": "Contents",
   "toc_cell": false,
   "toc_position": {
    "height": "calc(100% - 180px)",
    "left": "10px",
    "top": "150px",
    "width": "165px"
   },
   "toc_section_display": true,
   "toc_window_display": true
  }
 },
 "nbformat": 4,
 "nbformat_minor": 2
}
